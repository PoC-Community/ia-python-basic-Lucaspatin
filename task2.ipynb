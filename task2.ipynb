{
 "cells": [
  {
   "cell_type": "code",
   "execution_count": 17,
   "id": "8774980f-a89b-4b1c-bb27-7a682f89b450",
   "metadata": {},
   "outputs": [],
   "source": [
    "def littleSpeech(firstWord: str, secondWord: str) :\n",
    "    return firstWord+secondWord\n",
    "\n",
    "assert(littleSpeech(\"Hello\", \" World !\") == \"Hello World !\"), \"I guess he isn't alive.\""
   ]
  },
  {
   "cell_type": "code",
   "execution_count": null,
   "id": "2967c695-8328-4efe-adce-5c47e1021b18",
   "metadata": {},
   "outputs": [],
   "source": []
  },
  {
   "cell_type": "code",
   "execution_count": null,
   "id": "a7dfeec1-c36a-4e4f-9d9c-7bfcb45f430f",
   "metadata": {},
   "outputs": [],
   "source": []
  },
  {
   "cell_type": "code",
   "execution_count": null,
   "id": "0d9069a6-c062-4bb1-bf38-793ee9edb63b",
   "metadata": {},
   "outputs": [],
   "source": []
  },
  {
   "cell_type": "code",
   "execution_count": null,
   "id": "c6503060-eb71-4185-8f9a-49e935027d2c",
   "metadata": {},
   "outputs": [],
   "source": []
  },
  {
   "cell_type": "code",
   "execution_count": null,
   "id": "167dc8e6-0964-4d69-92d3-d333f4993a6d",
   "metadata": {},
   "outputs": [],
   "source": []
  },
  {
   "cell_type": "code",
   "execution_count": null,
   "id": "34d8f4df-39df-4c57-9d85-fb5f745800c0",
   "metadata": {},
   "outputs": [],
   "source": []
  }
 ],
 "metadata": {
  "kernelspec": {
   "display_name": "Python 3 (ipykernel)",
   "language": "python",
   "name": "python3"
  },
  "language_info": {
   "codemirror_mode": {
    "name": "ipython",
    "version": 3
   },
   "file_extension": ".py",
   "mimetype": "text/x-python",
   "name": "python",
   "nbconvert_exporter": "python",
   "pygments_lexer": "ipython3",
   "version": "3.11.6"
  }
 },
 "nbformat": 4,
 "nbformat_minor": 5
}
