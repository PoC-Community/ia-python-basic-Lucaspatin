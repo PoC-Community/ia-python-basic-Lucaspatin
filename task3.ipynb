{
 "cells": [
  {
   "cell_type": "code",
   "execution_count": null,
   "id": "a736f80b-2c74-49cd-9235-eead8f0a29b6",
   "metadata": {},
   "outputs": [],
   "source": [
    "def characterFrequency(sentences: str) -> dict:\n",
    "    dictionnaire = {}\n",
    "    for i in range(len(sentences)):\n",
    "        if sentences[i] in dictionnaire:\n",
    "            dictionnaire[sentences[i]] += 1 \n",
    "        else :\n",
    "            dictionnaire[sentences[i]] = 1\n",
    "        return dictionnaire\n",
    "\n",
    "assert(characterFrequency(\"If you ignore both your program and yourself, you will only count your battles by your defeats. ~ Rob Tzu\") == \\\n",
    "    {' ': 19, 'o': 12, 'y': 8, 'u': 8, 'r': 7, 'e': 5, 't': 5, 'l': 5, 'n': 4, 'b': 4, 'a': 4, 'f': 3, 's': 3, 'i': 2, 'g': 2, 'd': 2, 'I': 1,\\\n",
    "        'h': 1, 'p': 1, 'm': 1, ',': 1, 'w': 1, 'c': 1, '.': 1, '~': 1, 'R': 1, 'T': 1, 'z': 1}), \"As this one is.\""
   ]
  }
 ],
 "metadata": {
  "kernelspec": {
   "display_name": "Python 3 (ipykernel)",
   "language": "python",
   "name": "python3"
  },
  "language_info": {
   "codemirror_mode": {
    "name": "ipython",
    "version": 3
   },
   "file_extension": ".py",
   "mimetype": "text/x-python",
   "name": "python",
   "nbconvert_exporter": "python",
   "pygments_lexer": "ipython3",
   "version": "3.11.6"
  }
 },
 "nbformat": 4,
 "nbformat_minor": 5
}
